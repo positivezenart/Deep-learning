{
  "nbformat": 4,
  "nbformat_minor": 0,
  "metadata": {
    "colab": {
      "name": "Backpropagation_Assignment.ipynb",
      "provenance": [],
      "collapsed_sections": [],
      "include_colab_link": true
    },
    "kernelspec": {
      "display_name": "Python 3",
      "language": "python",
      "name": "python3"
    },
    "language_info": {
      "codemirror_mode": {
        "name": "ipython",
        "version": 3
      },
      "file_extension": ".py",
      "mimetype": "text/x-python",
      "name": "python",
      "nbconvert_exporter": "python",
      "pygments_lexer": "ipython3",
      "version": "3.6.3"
    }
  },
  "cells": [
    {
      "cell_type": "markdown",
      "metadata": {
        "id": "view-in-github",
        "colab_type": "text"
      },
      "source": [
        "<a href=\"https://colab.research.google.com/github/positivezenart/Deep-learning/blob/main/Backpropagation_Assignment.ipynb\" target=\"_parent\"><img src=\"https://colab.research.google.com/assets/colab-badge.svg\" alt=\"Open In Colab\"/></a>"
      ]
    },
    {
      "cell_type": "markdown",
      "metadata": {
        "id": "y871RZtRhCEH"
      },
      "source": [
        "# <font color='red'>Backpropagation</font>"
      ]
    },
    {
      "cell_type": "markdown",
      "metadata": {
        "id": "LqePYi-4mFvK"
      },
      "source": [
        "\n",
        "In this assignment, you will implement Backpropagation from scratch. You will then verify the correctness of the your implementation using a \"grader\" function/cell (provided by us) which will match your implmentation.\n",
        "\n",
        "The grader fucntion would help you validate the correctness of your code. \n",
        "\n",
        "Please submit the final Colab notebook in the classroom ONLY after you have verified your code using the grader function/cell.\n",
        "\n",
        "\n"
      ]
    },
    {
      "cell_type": "markdown",
      "metadata": {
        "id": "0huUQ0byiI0I"
      },
      "source": [
        "## <font color='red'>Loading data </font>"
      ]
    },
    {
      "cell_type": "code",
      "source": [
        "from google.colab import drive\n",
        "drive.mount('/content/drive')"
      ],
      "metadata": {
        "id": "gtpbqBH38nnM",
        "outputId": "b1dcf8f8-80b3-4915-f36e-c215f572475a",
        "colab": {
          "base_uri": "https://localhost:8080/"
        }
      },
      "execution_count": 1,
      "outputs": [
        {
          "output_type": "stream",
          "name": "stdout",
          "text": [
            "Mounted at /content/drive\n"
          ]
        }
      ]
    },
    {
      "cell_type": "code",
      "metadata": {
        "id": "1hSje5CBgcUb",
        "outputId": "254551db-86bc-4632-c024-996454c2ee6f",
        "colab": {
          "base_uri": "https://localhost:8080/"
        }
      },
      "source": [
        "import pickle\n",
        "import numpy as np\n",
        "from tqdm import tqdm\n",
        "import matplotlib.pyplot as plt\n",
        "import math\n",
        "\n",
        "with open('/content/drive/MyDrive/Deep learning/data.pkl', 'rb') as f:\n",
        "    data = pickle.load(f)\n",
        "print(data.shape)\n",
        "X = data[:, :5]\n",
        "y = data[:, -1]\n",
        "print(X.shape, y.shape)"
      ],
      "execution_count": 2,
      "outputs": [
        {
          "output_type": "stream",
          "name": "stdout",
          "text": [
            "(506, 6)\n",
            "(506, 5) (506,)\n"
          ]
        }
      ]
    },
    {
      "cell_type": "markdown",
      "metadata": {
        "id": "hmphIg_E52Rs"
      },
      "source": [
        "<font color='blue'><b>Check this video for better understanding of the computational graphs and back propagation</font>"
      ]
    },
    {
      "cell_type": "code",
      "metadata": {
        "colab": {
          "base_uri": "https://localhost:8080/",
          "height": 520
        },
        "id": "uUWpHhgg53eu",
        "outputId": "3cc89735-d0a7-4c1c-aab5-d4e75b856a6b"
      },
      "source": [
        "from IPython.display import YouTubeVideo\n",
        "YouTubeVideo('i94OvYb6noo',width=\"1000\",height=\"500\")"
      ],
      "execution_count": null,
      "outputs": [
        {
          "data": {
            "image/jpeg": "[encoded data removed]",
            "text/html": [
              "\n",
              "        <iframe\n",
              "            width=\"1000\"\n",
              "            height=\"500\"\n",
              "            src=\"https://www.youtube.com/embed/i94OvYb6noo\"\n",
              "            frameborder=\"0\"\n",
              "            allowfullscreen\n",
              "        ></iframe>\n",
              "        "
            ],
            "text/plain": [
              "<IPython.lib.display.YouTubeVideo at 0x7fef8b613f50>"
            ]
          },
          "execution_count": 1,
          "metadata": {},
          "output_type": "execute_result"
        }
      ]
    },
    {
      "cell_type": "markdown",
      "metadata": {
        "id": "5JL-0soQistC"
      },
      "source": [
        "# <font color='red'>Computational graph</font>"
      ]
    },
    {
      "cell_type": "markdown",
      "metadata": {
        "id": "nREnTTJ3i0Vd"
      },
      "source": [
        "<img src='https://i.imgur.com/seSGbNS.png'>"
      ]
    },
    {
      "cell_type": "markdown",
      "metadata": {
        "id": "DSPX_H_4i_HT"
      },
      "source": [
        "\n",
        "*  **If you observe the graph, we are having input features [f1, f2, f3, f4, f5] and 9 weights [w1, w2, w3, w4, w5, w6,    w7, w8, w9]**.<br><br>\n",
        "*  **The final output of this graph is a value L which is computed as (Y-Y')^2** "
      ]
    },
    {
      "cell_type": "markdown",
      "metadata": {
        "id": "D54eDEv6jkO4"
      },
      "source": [
        "## <font color='red'>Task 1: Implementing Forward propagation, Backpropagation and Gradient checking </font>"
      ]
    },
    {
      "cell_type": "markdown",
      "metadata": {
        "id": "xyWK94o_fTKH"
      },
      "source": [
        "# <font color='red'>Task 1.1 </font>"
      ]
    },
    {
      "cell_type": "markdown",
      "metadata": {
        "id": "RwEcPWLffTKI"
      },
      "source": [
        "## <font color='blue'>Forward propagation </font>"
      ]
    },
    {
      "cell_type": "markdown",
      "metadata": {
        "id": "FCZrm-gkfTKI"
      },
      "source": [
        "\n",
        "*  <b>\n",
        "    Forward propagation</b>(Write your code in<font color='blue'> def forward_propagation()</b></font>)<br><br>\n",
        "    For easy debugging, we will break the computational graph into 3 parts.\n",
        "\n",
        "    <font color='green'><b>Part 1</b></font></b>\n",
        "    <img src='https://i.imgur.com/0xUaxy6.png'><br><br>\n",
        "    <font color='green'><b>Part 2</b></font></b><br>\n",
        "    <img src='https://i.imgur.com/J29pAJL.png'><br><br>\n",
        "    <font color='green'><b>Part 3</b></font></b>\n",
        "    <img src='https://i.imgur.com/vMyCsd9.png'>"
      ]
    },
    {
      "cell_type": "code",
      "metadata": {
        "id": "ADCovl2FfTKJ"
      },
      "source": [
        "def sigmoid(z):\n",
        "    '''In this function, we will compute the sigmoid(z)'''\n",
        "    # we can use this function in forward and backward propagation\n",
        "    # write the code to compute the sigmoid value of z and return that value \n",
        "    \n",
        "    return 1/(1+np.exp(-z))"
      ],
      "execution_count": 3,
      "outputs": []
    },
    {
      "cell_type": "code",
      "metadata": {
        "id": "dLJ-OYwefTKJ",
        "outputId": "135f3e30-780a-469c-b310-89f402e10da7",
        "colab": {
          "base_uri": "https://localhost:8080/"
        }
      },
      "source": [
        "def grader_sigmoid(z):\n",
        "  #if you have written the code correctly then the grader function will output true\n",
        "  val=sigmoid(z)\n",
        "  assert(val==0.8807970779778823)\n",
        "  return True\n",
        "grader_sigmoid(2)"
      ],
      "execution_count": 4,
      "outputs": [
        {
          "output_type": "execute_result",
          "data": {
            "text/plain": [
              "True"
            ]
          },
          "metadata": {},
          "execution_count": 4
        }
      ]
    },
    {
      "cell_type": "code",
      "metadata": {
        "id": "KD3piNkifTKJ"
      },
      "source": [
        "def forward_propagation(x, y, w):\n",
        "        '''In this function, we will compute the forward propagation '''\n",
        "        # X: input data point, note that in this assignment you are having 5-d data points\n",
        "        # y: output varible\n",
        "        # W: weight array, its of length 9, W[0] corresponds to w1 in graph, W[1] corresponds to w2 in graph,..., W[8] corresponds to w9 in graph.  \n",
        "        # you have to return the following variables\n",
        "        # exp= part1 (compute the forward propagation until exp and then store the values in exp)\n",
        "        # tanh =part2(compute the forward propagation until tanh and then store the values in tanh)\n",
        "        # sig = part3(compute the forward propagation until sigmoid and then store the values in sig)\n",
        "        # we are computing one of the values for better understanding\n",
        "        \n",
        "        val_1= (w[0]*x[0]+w[1]*x[1]) * (w[0]*x[0]+w[1]*x[1]) + w[5]\n",
        "        exp = np.exp(val_1)\n",
        "        tanh = np.tanh(exp + w[6])\n",
        "        val_2= ((np.sin(w[2]*x[2]))*((w[3]*x[3])+(w[4]*x[4])))+w[7]\n",
        "        sig = sigmoid(val_2)\n",
        "        y_pred = tanh+sig*w[8]\n",
        "        \n",
        "        \n",
        "        # after computing part1,part2 and part3 compute the value of y' from the main Computational graph using required equations\n",
        "        # write code to compute the value of L=(y-y')^2 and store it in variable loss\n",
        "        loss =pow(y-y_pred,2)\n",
        "        # compute derivative of L  w.r.to y' and store it in dy_pred \n",
        "        dy_pred = -2 * (y-y_pred)\n",
        "        # Create a dictionary to store all the intermediate values i.e. dy_pred ,loss,exp,tanh,sigmoid\n",
        "        # we will be using the dictionary to find values in backpropagation, you can add other keys in dictionary as well\n",
        "        \n",
        "        forward_dict={}\n",
        "        forward_dict['exp']= exp\n",
        "        forward_dict['sigmoid'] = sig\n",
        "        forward_dict['tanh'] =tanh\n",
        "        forward_dict['loss'] = loss\n",
        "        forward_dict['dy_pred'] = dy_pred\n",
        "        \n",
        "        return forward_dict"
      ],
      "execution_count": 5,
      "outputs": []
    },
    {
      "cell_type": "code",
      "metadata": {
        "id": "vP0iV7f4fTKK",
        "outputId": "cd918296-7062-49c8-fffe-ce86859b3c0e",
        "colab": {
          "base_uri": "https://localhost:8080/"
        }
      },
      "source": [
        "def grader_forwardprop(data):\n",
        "    dl = (data['dy_pred']==-1.9285278284819143)\n",
        "    loss=(data['loss']==0.9298048963072919)\n",
        "    part1=(data['exp']==1.1272967040973583)\n",
        "    part2=(data['tanh']==0.8417934192562146)\n",
        "    part3=(data['sigmoid']==0.5279179387419721)\n",
        "    assert(dl and loss and part1 and part2 and part3)\n",
        "    return True\n",
        "w=np.ones(9)*0.1\n",
        "d1=forward_propagation(X[0],y[0],w)\n",
        "grader_forwardprop(d1)"
      ],
      "execution_count": 6,
      "outputs": [
        {
          "output_type": "execute_result",
          "data": {
            "text/plain": [
              "True"
            ]
          },
          "metadata": {},
          "execution_count": 6
        }
      ]
    },
    {
      "cell_type": "markdown",
      "metadata": {
        "id": "2zcQmvkvfTKL"
      },
      "source": [
        "# <font color='red'>Task 1.2 </font>"
      ]
    },
    {
      "cell_type": "markdown",
      "metadata": {
        "id": "4YVYD18xfTKL"
      },
      "source": [
        "## <font color='blue'>Backward propagation</font>"
      ]
    },
    {
      "cell_type": "code",
      "metadata": {
        "id": "Ld1PMQtffTKL"
      },
      "source": [
        "def backward_propagation(x,y,w,forward_dict):\n",
        "    '''In this function, we will compute the backward propagation '''\n",
        "    # forward_dict: the outputs of the forward_propagation() function\n",
        "    # write code to compute the gradients of each weight [w1,w2,w3,...,w9]\n",
        "    # Hint: you can use dict type to store the required variables \n",
        "    # dw1 = # in dw1 compute derivative of L w.r.to w1\n",
        "    dw1 = forward_dict['dy_pred']*(1-(math.pow(forward_dict['tanh'],2)))*forward_dict[\"exp\"]*2*((w[0]*x[0])+(w[1]*x[1]))*x[0]\n",
        "    # dw2 = # in dw2 compute derivative of L w.r.to w2\n",
        "    dw2=forward_dict['dy_pred']*(1-(math.pow(forward_dict['tanh'],2)))*forward_dict[\"exp\"]*2*((w[0]*x[0])+(w[1]*x[1]))*x[1]\n",
        "    # dw3 = # in dw3 compute derivative of L w.r.to w3\n",
        "    dw3 =forward_dict['dy_pred']*(forward_dict['sigmoid']*(1-forward_dict['sigmoid']))*w[8]*((w[3]*x[3])+(w[4]*x[4]))*math.cos(x[2]*w[2])*x[2]\n",
        "    # dw4 = # in dw4 compute derivative of L w.r.to w4\n",
        "    dw4 =forward_dict['dy_pred']*(forward_dict['sigmoid']*(1-forward_dict['sigmoid']))*w[8]*math.sin(x[2]*w[2])*x[3]\n",
        "    # dw5 = # in dw5 compute derivative of L w.r.to w5\n",
        "    dw5 =forward_dict['dy_pred']*(forward_dict['sigmoid']*(1-forward_dict['sigmoid']))*w[8]*math.sin(x[2]*w[2])*x[4]\n",
        "    # dw6 = # in dw6 compute derivative of L w.r.to w6\n",
        "    dw6 = forward_dict['dy_pred']*(1-(math.pow(forward_dict['tanh'],2)))*forward_dict[\"exp\"]\n",
        "    # dw7 = # in dw7 compute derivative of L w.r.to w7\n",
        "    dw7 =forward_dict['dy_pred']*(1-(math.pow(forward_dict['tanh'],2)))\n",
        "    # dw8 = # in dw8 compute derivative of L w.r.to w8\n",
        "    dw8 =forward_dict['dy_pred']*(forward_dict['sigmoid']*(1-forward_dict['sigmoid']))*w[8]\n",
        "    # dw9 = # in dw9 compute derivative of L w.r.to w9\n",
        "    dw9 =forward_dict['dy_pred']*forward_dict['sigmoid']\n",
        "    \n",
        "    \n",
        "    backward_dict={}\n",
        "    #store the variables dw1,dw2 etc. in a dict as backward_dict['dw1']= dw1,backward_dict['dw2']= dw2...\n",
        "    backward_dict['dw1']= dw1\n",
        "    backward_dict['dw2']= dw2\n",
        "    backward_dict['dw3']= dw3\n",
        "    backward_dict['dw4']= dw4\n",
        "    backward_dict['dw5']= dw5\n",
        "    backward_dict['dw6']= dw6\n",
        "    backward_dict['dw7']= dw7\n",
        "    backward_dict['dw8']= dw8\n",
        "    backward_dict['dw9']= dw9\n",
        "\n",
        "    \n",
        "    \n",
        "    return backward_dict"
      ],
      "execution_count": 7,
      "outputs": []
    },
    {
      "cell_type": "code",
      "metadata": {
        "id": "0ipQbNXOfTKM",
        "outputId": "b2727c99-d35b-4fea-b731-21d247eb1e3e",
        "colab": {
          "base_uri": "https://localhost:8080/"
        }
      },
      "source": [
        "def grader_backprop(data):\n",
        "    dw1=(np.round(data['dw1'],6)==-0.229733)\n",
        "    dw2=(np.round(data['dw2'],6)==-0.021408)\n",
        "    dw3=(np.round(data['dw3'],6)==-0.005625)\n",
        "    dw4=(np.round(data['dw4'],6)==-0.004658)\n",
        "    dw5=(np.round(data['dw5'],6)==-0.001008)\n",
        "    dw6=(np.round(data['dw6'],6)==-0.633475)\n",
        "    dw7=(np.round(data['dw7'],6)==-0.561942)\n",
        "    dw8=(np.round(data['dw8'],6)==-0.048063)\n",
        "    dw9=(np.round(data['dw9'],6)==-1.018104)\n",
        "    assert(dw1 and dw2 and dw3 and dw4 and dw5 and dw6 and dw7 and dw8 and dw9)\n",
        "    return True \n",
        "w=np.ones(9)*0.1\n",
        "forward_dict=forward_propagation(X[0],y[0],w)\n",
        "backward_dict=backward_propagation(X[0],y[0],w,forward_dict)\n",
        "grader_backprop(backward_dict)"
      ],
      "execution_count": 8,
      "outputs": [
        {
          "output_type": "execute_result",
          "data": {
            "text/plain": [
              "True"
            ]
          },
          "metadata": {},
          "execution_count": 8
        }
      ]
    },
    {
      "cell_type": "markdown",
      "metadata": {
        "id": "RlR1JVN5fTKM"
      },
      "source": [
        "# <font color='red'>Task 1.3 </font>"
      ]
    },
    {
      "cell_type": "markdown",
      "metadata": {
        "id": "STS4NrQQc6OH"
      },
      "source": [
        " ## <font color='blue'>Gradient clipping</font>"
      ]
    },
    {
      "cell_type": "markdown",
      "metadata": {
        "id": "XY7ivRNzdPok"
      },
      "source": [
        "<b> Check this  <a href='https://towardsdatascience.com/how-to-debug-a-neural-network-with-gradient-checking-41deec0357a9'>blog link</a> for more details on Gradient clipping"
      ]
    },
    {
      "cell_type": "markdown",
      "metadata": {
        "id": "BrsfpDoidtZ5"
      },
      "source": [
        " we know that the derivative of any function is\n",
        " \n",
        " $$\\lim_{\\epsilon\\to0}\\frac{f(x+\\epsilon)-f(x-\\epsilon)}{2\\epsilon}$$\n"
      ]
    },
    {
      "cell_type": "markdown",
      "metadata": {
        "id": "vUcmt0kPd02f"
      },
      "source": [
        "*  The definition above can be used as a numerical approximation of the derivative. Taking an epsilon small enough, the calculated approximation will have an error in the range of epsilon squared. \n",
        "\n",
        "*  In other words, if epsilon is 0.001, the approximation will be off by 0.00001.\n",
        "\n",
        "Therefore, we can use this to approximate the gradient, and in turn make sure that backpropagation is implemented properly. This forms the basis of <b>gradient checking!</b>"
      ]
    },
    {
      "cell_type": "markdown",
      "metadata": {
        "id": "pFSu16KCeU0x"
      },
      "source": [
        "## <Font color='blue'>Gradient checking example</font>"
      ]
    },
    {
      "cell_type": "markdown",
      "metadata": {
        "id": "Gz0mmT_xecfC"
      },
      "source": [
        "<font >\n",
        "lets understand the concept with a simple example:\n",
        "$f(w1,w2,x1,x2)=w_{1}^{2} . x_{1} + w_{2} . x_{2}$ \n",
        "\n",
        "from the above function , lets assume $w_{1}=1$, $w_{2}=2$, $x_{1}=3$, $x_{2}=4$ the gradient of $f$ w.r.t $w_{1}$ is\n",
        "\n",
        "\\begin{array} {lcl}\n",
        "\\frac{df}{dw_{1}} = dw_{1} &=&2.w_{1}.x_{1} \\\\& = &2.1.3\\\\& = &6\n",
        "\\end{array}\n",
        "\n",
        "\n",
        "let calculate the aproximate gradient of $w_{1}$ as mentinoned in the above formula and considering $\\epsilon=0.0001$\n",
        "\n",
        "\\begin{array} {lcl}\n",
        "dw_1^{approx} & = & \\frac{f(w1+\\epsilon,w2,x1,x2)-f(w1-\\epsilon,w2,x1,x2)}{2\\epsilon} \\\\ & = & \\frac{((1+0.0001)^{2} . 3 + 2 . 4) - ((1-0.0001)^{2} . 3 + 2 . 4)}{2\\epsilon} \\\\ & = & \\frac{(1.00020001 . 3 + 2 . 4) - (0.99980001. 3 + 2 . 4)}{2*0.0001} \\\\ & = & \\frac{(11.00060003) - (10.99940003)}{0.0002}\\\\ & = & 5.99999999999\n",
        "\\end{array}\n",
        "\n",
        "Then, we apply the following formula for gradient check: <i>gradient_check</i> = \n",
        "$\\frac{\\left\\Vert\\left (dW-dW^{approx}\\rm\\right) \\right\\Vert_2}{\\left\\Vert\\left (dW\\rm\\right) \\right\\Vert_2+\\left\\Vert\\left (dW^{approx}\\rm\\right) \\right\\Vert_2}$\n",
        "\n",
        "The equation above is basically the Euclidean distance normalized by the sum of the norm of the vectors. We use normalization in case that one of the vectors is very small.\n",
        "As a value for epsilon, we usually opt for 1e-7. Therefore, if gradient check return a value less than 1e-7, then it means that backpropagation was implemented correctly. Otherwise, there is potentially a mistake in your implementation. If the value exceeds 1e-3, then you are sure that the code is not correct.\n",
        "\n",
        "in our example: <i>gradient_check</i> $ = \\frac{(6 - 5.999999999994898)}{(6 + 5.999999999994898)} = 4.2514140356330737e^{-13}$\n",
        "\n",
        "you can mathamatically derive the same thing like this\n",
        "\n",
        "\\begin{array} {lcl}\n",
        "dw_1^{approx} & = & \\frac{f(w1+\\epsilon,w2,x1,x2)-f(w1-\\epsilon,w2,x1,x2)}{2\\epsilon} \\\\ & = & \\frac{((w_{1}+\\epsilon)^{2} . x_{1} + w_{2} . x_{2}) - ((w_{1}-\\epsilon)^{2} . x_{1} + w_{2} . x_{2})}{2\\epsilon} \\\\ & = & \\frac{4. \\epsilon.w_{1}. x_{1}}{2\\epsilon} \\\\ & = &  2.w_{1}.x_{1}\n",
        "\\end{array}\n"
      ]
    },
    {
      "cell_type": "markdown",
      "metadata": {
        "id": "f1BFQQaCermK"
      },
      "source": [
        "## <font color='red'> Implement Gradient checking </font> <br>\n",
        " (Write your code in <font color='blue'> def gradient_checking()</font>)"
      ]
    },
    {
      "cell_type": "markdown",
      "metadata": {
        "id": "GqpfA3AqfJba"
      },
      "source": [
        "**Algorithm** \n",
        "\n"
      ]
    },
    {
      "cell_type": "markdown",
      "metadata": {
        "id": "FL39KeRFfNoD"
      },
      "source": [
        "<pre>\n",
        "<font color='darkblue'>\n",
        "W = initilize_randomly\n",
        "def gradient_checking(data_point, W):<font color='grey'>\n",
        "    # compute the L value using forward_propagation()\n",
        "    # compute the gradients of W using backword_propagation()</font>\n",
        "    approx_gradients = []\n",
        "    for each wi weight value in W:<font color='grey'>\n",
        "        # add a small value to weight wi, and then find the values of L with the updated weights\n",
        "        # subtract a small value to weight wi, and then find the values of L with the updated weights\n",
        "        # compute the approximation gradients of weight wi</font>\n",
        "        approx_gradients.append(approximation gradients of weight wi)<font color='grey'>\n",
        "    # compare the gradient of weights W from backword_propagation() with the aproximation gradients of weights with <br>  gradient_check formula</font>\n",
        "    return gradient_check</font>\n",
        "<b>NOTE: you can do sanity check by checking all the return values of gradient_checking(),<br> they have to be zero. if not you have bug in your code\n",
        "</pre></b>"
      ]
    },
    {
      "cell_type": "code",
      "source": [
        "def gradient_checking(x,y,w,eps):\n",
        "    # compute the dict value using forward_propagation()\n",
        "    # compute the actual gradients of W using backword_propagation()\n",
        "    forward_dict=forward_propagation(x,y,w)\n",
        "    backward_dict=backward_propagation(x,y,w,forward_dict)\n",
        "    \n",
        "    #we are storing the original gradients for the given datapoints in a list\n",
        "    \n",
        "    original_gradients_list=list(backward_dict.values())\n",
        "    # make sure that the order is correct i.e. first element in the list corresponds to  dw1 ,second element is dw2 etc.\n",
        "    # you can use reverse function if the values are in reverse order\n",
        "    \n",
        "    approx_gradients_list=[]\n",
        "    eps=0.0001\n",
        "    \n",
        "    #now we have to write code for approx gradients, here you have to make sure that you update only one weight at a time\n",
        "    #write your code here and append the approximate gradient value for each weight in  approx_gradients_list\n",
        "    for i in range(len(w)):\n",
        "      w_plus =w.copy()\n",
        "      w_plus[i]=w_plus[i]+eps\n",
        "      Loss1=forward_propagation(x,y,w_plus)['loss']\n",
        "      w_sub = w.copy()\n",
        "      w_sub[i]=w_sub[i]-eps\n",
        "      Loss2=forward_propagation(x,y,w_sub)['loss']\n",
        "      approx =(Loss1-Loss2)/(2*eps)\n",
        "      approx_gradients_list.append(approx)\n",
        "    gradient_check_value =[]\n",
        "    for i in range(len(w)):\n",
        "        original_gradients_list=np.array(original_gradients_list)\n",
        "        approx_gradients_list=np.array(approx_gradients_list)\n",
        "        numerator = np.linalg.norm(approx_gradients_list - \n",
        "            original_gradients_list)\n",
        "        denominator = np.linalg.norm(approx_gradients_list ) + np.linalg.norm( \n",
        "            original_gradients_list)   \n",
        "        gradient_check_value = numerator / denominator \n",
        "      \n",
        "    \n",
        "    return gradient_check_value"
      ],
      "metadata": {
        "id": "fEl2-yvuyYXy"
      },
      "execution_count": 10,
      "outputs": []
    },
    {
      "cell_type": "code",
      "metadata": {
        "id": "aWSU56GffTKO",
        "outputId": "d6d548d5-59a5-45ca-95e6-bd30de5ee5cc",
        "colab": {
          "base_uri": "https://localhost:8080/"
        }
      },
      "source": [
        "def grader_grad_check(value):\n",
        "    print(value)\n",
        "    assert(np.all(value <= 10**-3))\n",
        "    return True \n",
        "\n",
        "w=[ 0.00271756,  0.01260512,  0.00167639, -0.00207756,  0.00720768,\n",
        "   0.00114524,  0.00684168,  0.02242521,  0.01296444]\n",
        "\n",
        "eps=10**-7\n",
        "value= gradient_checking(X[0],y[0],w,eps)\n",
        "grader_grad_check(value)"
      ],
      "execution_count": 11,
      "outputs": [
        {
          "output_type": "stream",
          "name": "stdout",
          "text": [
            "1.5984983449661577e-09\n"
          ]
        },
        {
          "output_type": "execute_result",
          "data": {
            "text/plain": [
              "True"
            ]
          },
          "metadata": {},
          "execution_count": 11
        }
      ]
    },
    {
      "cell_type": "code",
      "source": [
        "print(X.dtype)\n",
        "print(y.dtype)\n",
        "print(type(w))"
      ],
      "metadata": {
        "id": "E84vk6N6Oznp",
        "outputId": "79e4c2d9-0ef7-4b3d-fb52-8dea083d59c2",
        "colab": {
          "base_uri": "https://localhost:8080/"
        }
      },
      "execution_count": 12,
      "outputs": [
        {
          "output_type": "stream",
          "name": "stdout",
          "text": [
            "float64\n",
            "float64\n",
            "<class 'list'>\n"
          ]
        }
      ]
    },
    {
      "cell_type": "markdown",
      "metadata": {
        "id": "0ufbFBFfhgL0"
      },
      "source": [
        "# <font color='red'> Task 2 : Optimizers </font>"
      ]
    },
    {
      "cell_type": "markdown",
      "metadata": {
        "id": "7zt05soYh1RM"
      },
      "source": [
        "* As a part of this task, you will be implementing 2  optimizers(methods to update weight)\n",
        "* Use the same computational graph that was mentioned above to do this task\n",
        "* The weights have been initialized from normal distribution with mean=0 and std=0.01. The initialization of weights is very important otherwiswe you can face vanishing gradient and exploding gradients problem."
      ]
    },
    {
      "cell_type": "markdown",
      "metadata": {
        "id": "CAyi7aSAicbr"
      },
      "source": [
        "**Check below video for reference purpose**"
      ]
    },
    {
      "cell_type": "code",
      "metadata": {
        "id": "ZogcxiegkQpz",
        "colab": {
          "base_uri": "https://localhost:8080/",
          "height": 521
        },
        "outputId": "5a1f4fd5-14de-4ca5-d173-bbc4c4628b8f"
      },
      "source": [
        "from IPython.display import YouTubeVideo\n",
        "YouTubeVideo('gYpoJMlgyXA',width=\"1000\",height=\"500\")"
      ],
      "execution_count": null,
      "outputs": [
        {
          "output_type": "execute_result",
          "data": {
            "text/plain": [
              "<IPython.lib.display.YouTubeVideo at 0x7f21e33e67d0>"
            ],
            "text/html": [
              "\n",
              "        <iframe\n",
              "            width=\"1000\"\n",
              "            height=\"500\"\n",
              "            src=\"https://www.youtube.com/embed/gYpoJMlgyXA\"\n",
              "            frameborder=\"0\"\n",
              "            allowfullscreen\n",
              "        ></iframe>\n",
              "        "
            ],
            "image/jpeg": "[encoded data removed]"
          },
          "metadata": {},
          "execution_count": 18
        }
      ]
    },
    {
      "cell_type": "markdown",
      "metadata": {
        "id": "jmefh7ktjbaR"
      },
      "source": [
        "<font color='blue'><b>Algorithm</b>"
      ]
    },
    {
      "cell_type": "markdown",
      "metadata": {
        "id": "nAc4NudkjdNa"
      },
      "source": [
        "<pre>\n",
        "    for each epoch(1-20):\n",
        "        for each data point in your data:\n",
        "            using the functions forward_propagation() and backword_propagation() compute the gradients of weights\n",
        "            update the weigts with help of gradients  \n",
        "</pre>"
      ]
    },
    {
      "cell_type": "markdown",
      "metadata": {
        "id": "_fdmPNqtjm3X"
      },
      "source": [
        "## <font color='red'> Implement below tasks</b>"
      ]
    },
    {
      "cell_type": "markdown",
      "metadata": {
        "id": "Ll9-CRsLjx_D"
      },
      "source": [
        "\n",
        "*  <b>Task 2.1</b>: you will be implementing the above algorithm with <b>Vanilla update</b> of weights<br><br>\n",
        "*  <b>Task 2.2</b>: you will be implementing the above algorithm with <b>Momentum update</b> of weights<br><br>\n",
        "*  <b>Task 2.3</b>: you will be implementing the above algorithm with <b>Adam update</b> of weights<br><br>\n"
      ]
    },
    {
      "cell_type": "markdown",
      "metadata": {
        "id": "atp082demrUR"
      },
      "source": [
        "**Note : If you get any assertion error while running grader functions, please print the variables in grader functions and check which variable is returning False .Recheck your logic for that variable .**"
      ]
    },
    {
      "cell_type": "markdown",
      "metadata": {
        "id": "cv_hZFWalS2z"
      },
      "source": [
        "### <font color='blue'>2.1 Algorithm with Vanilla update of weights</font>"
      ]
    },
    {
      "cell_type": "code",
      "source": [
        "from sklearn.metrics import mean_squared_error\n",
        "learn_rate = .001 #learning rate\n",
        "mu, sigma = 0, 0.01 # mean and standard deviation\n",
        "w = np.random.normal(mu, sigma, 9) # weight intialization\n",
        "weight=w"
      ],
      "metadata": {
        "id": "1xutPnZ55mtt"
      },
      "execution_count": 14,
      "outputs": []
    },
    {
      "cell_type": "code",
      "source": [
        "loss_value_vanilla=[]\n",
        "epoc_vanilla=[]\n",
        "for epoch in range(100):\n",
        "  epoc_vanilla.append(epoch)\n",
        "  y_pred=[]\n",
        "  for point in range(len(data)):\n",
        "     forward_dict=forward_propagation(X[point],y[point],w)\n",
        "     y_pred.append(forward_dict['dy_pred'])\n",
        "     backward_dict=backward_propagation(X[point],y[point],w,forward_dict)\n",
        "     w[0] = w[0] - learn_rate* backward_dict['dw1']\n",
        "     w[1] = w[1] - learn_rate* backward_dict['dw2']\n",
        "     w[2] = w[2] - learn_rate* backward_dict['dw3']\n",
        "     w[3] = w[3] - learn_rate* backward_dict['dw4']\n",
        "     w[4] = w[4] - learn_rate* backward_dict['dw5']\n",
        "     w[5] = w[5] - learn_rate* backward_dict['dw6']\n",
        "     w[6] = w[6] - learn_rate* backward_dict['dw7']\n",
        "     w[7] = w[7] - learn_rate* backward_dict['dw8']\n",
        "     w[8] = w[8] - learn_rate* backward_dict['dw9']\n",
        "  loss= mean_squared_error(y,y_pred)\n",
        "  loss_value_vanilla.append(loss)     "
      ],
      "metadata": {
        "id": "fKB_uaJP6KOt"
      },
      "execution_count": 15,
      "outputs": []
    },
    {
      "cell_type": "markdown",
      "source": [
        "**Plot between epochs and loss**"
      ],
      "metadata": {
        "id": "e-2pL8EPAl-v"
      }
    },
    {
      "cell_type": "code",
      "source": [
        "%matplotlib inline\n",
        "import matplotlib.pyplot as plt\n",
        "plt.figure(figsize=(8,6))\n",
        "plt.grid()\n",
        "plt.plot(epoc_vanilla,loss_value_vanilla, label=' loss')\n",
        "plt.title(\"epoch vs loss\")\n",
        "plt.xlabel(\"epoch_number\")\n",
        "plt.ylabel(\"loss\")\n",
        "plt.legend()"
      ],
      "metadata": {
        "colab": {
          "base_uri": "https://localhost:8080/",
          "height": 423
        },
        "id": "_PioKAYfAnSF",
        "outputId": "b28a62da-4be0-4116-a12e-cae7664bd8d0"
      },
      "execution_count": 16,
      "outputs": [
        {
          "output_type": "execute_result",
          "data": {
            "text/plain": [
              "<matplotlib.legend.Legend at 0x7fe6f9880b90>"
            ]
          },
          "metadata": {},
          "execution_count": 16
        },
        {
          "output_type": "display_data",
          "data": {
            "text/plain": [
              "<Figure size 576x432 with 1 Axes>"
            ],
            "image/png": "[encoded data removed]"
          },
          "metadata": {
            "needs_background": "light"
          }
        }
      ]
    },
    {
      "cell_type": "markdown",
      "metadata": {
        "id": "V4RWWrZ7lWap"
      },
      "source": [
        "### <font color='blue'>2.2 Algorithm with Momentum update of weights</font>"
      ]
    },
    {
      "cell_type": "markdown",
      "metadata": {
        "id": "oM2BAasL6zz4"
      },
      "source": [
        "<img src='https://i.imgur.com/gyPSXhS.png'>"
      ]
    },
    {
      "cell_type": "markdown",
      "metadata": {
        "id": "2iCc4sIE-4A-"
      },
      "source": [
        "Here Gamma referes to the momentum coefficient, eta is leaning rate and v_t is moving average of our gradients at timestep t"
      ]
    },
    {
      "cell_type": "code",
      "source": [
        "from sklearn.metrics import mean_squared_error\n",
        "learn_rate = .001\n",
        "mu, sigma = 0, 0.01 # mean and standard deviation\n",
        "w = np.random.normal(mu, sigma, 9) # weight intialization\n",
        "b=.9 #γ is usually set to 0.9\n",
        "m=np.zeros(9) "
      ],
      "metadata": {
        "id": "goYFx4DGA57d"
      },
      "execution_count": 17,
      "outputs": []
    },
    {
      "cell_type": "code",
      "source": [
        "loss_value_momentum=[]\n",
        "epoc_momentum=[]\n",
        "for epoch in range(100):\n",
        "  epoc_momentum.append(epoch)\n",
        "  y_pred=[]\n",
        "  for point in range(len(data)):\n",
        "     forward_dict=forward_propagation(X[point],y[point],w)\n",
        "     y_pred.append(forward_dict['dy_pred'])\n",
        "     backward_dict=backward_propagation(X[point],y[point],w,forward_dict)\n",
        "     m[0] = b * m[0] + learn_rate* backward_dict['dw1']\n",
        "     w[0]=w[0]- m[0]\n",
        "     m[1] = b * m[1] + learn_rate* backward_dict['dw2']\n",
        "     w[1]=w[1]- m[1] \n",
        "     m[2] = b * m[2] + learn_rate* backward_dict['dw3']\n",
        "     w[2]=w[2]- m[2]\n",
        "     m[3] = b * m[3] + learn_rate* backward_dict['dw4']\n",
        "     w[3]=w[3]- m[3]\n",
        "     m[4] = b * m[4] + learn_rate* backward_dict['dw5']\n",
        "     w[4]=w[4]- m[4]\n",
        "     m[5] = b * m[5] + learn_rate* backward_dict['dw6']\n",
        "     w[5]=w[5]- m[5]\n",
        "     m[6] = b * m[6] + learn_rate* backward_dict['dw7']\n",
        "     w[6]=w[6]- m[6]\n",
        "     m[7] = b * m[7] + learn_rate* backward_dict['dw8']\n",
        "     w[7]=w[7]- m[7]\n",
        "     m[8] = b * m[8] + learn_rate* backward_dict['dw9']\n",
        "     w[8]=w[8]- m[8]\n",
        "  loss= mean_squared_error(y,y_pred)\n",
        "  loss_value_momentum.append(loss)     "
      ],
      "metadata": {
        "id": "o5OPAyafA-sE"
      },
      "execution_count": 18,
      "outputs": []
    },
    {
      "cell_type": "code",
      "source": [
        "%matplotlib inline\n",
        "import matplotlib.pyplot as plt\n",
        "plt.figure(figsize=(8,6))\n",
        "plt.grid()\n",
        "plt.plot(epoc_momentum,loss_value_momentum, label=' loss')\n",
        "plt.title(\"epoch vs loss\")\n",
        "plt.xlabel(\"epoch_number\")\n",
        "plt.ylabel(\"loss\")\n",
        "plt.legend()"
      ],
      "metadata": {
        "colab": {
          "base_uri": "https://localhost:8080/",
          "height": 423
        },
        "id": "23OPv1_gM0yE",
        "outputId": "664b4e1b-a4e3-4954-b08a-771ead933520"
      },
      "execution_count": 19,
      "outputs": [
        {
          "output_type": "execute_result",
          "data": {
            "text/plain": [
              "<matplotlib.legend.Legend at 0x7fe6f93a9610>"
            ]
          },
          "metadata": {},
          "execution_count": 19
        },
        {
          "output_type": "display_data",
          "data": {
            "text/plain": [
              "<Figure size 576x432 with 1 Axes>"
            ],
            "image/png": "[encoded data removed]"
          },
          "metadata": {
            "needs_background": "light"
          }
        }
      ]
    },
    {
      "cell_type": "markdown",
      "metadata": {
        "id": "-KTmDomaQoW5"
      },
      "source": [
        ""
      ]
    },
    {
      "cell_type": "markdown",
      "metadata": {
        "id": "Agtmr_lZQoW6"
      },
      "source": [
        "### <font color='blue'>2.3 Algorithm with Adam update of weights</font>"
      ]
    },
    {
      "cell_type": "markdown",
      "metadata": {
        "id": "WRYiT2KKQoW6"
      },
      "source": [
        "<img src='https://i.imgur.com/GDR8UFP.jpg'>"
      ]
    },
    {
      "cell_type": "code",
      "metadata": {
        "id": "0YffVQ2LQoW6"
      },
      "source": [
        "from sklearn.metrics import mean_squared_error\n",
        "learn_rate = .001\n",
        "beta1 = 0.9\n",
        "beta2 = 0.999\n",
        "eps = 1e-8\n",
        "mu, sigma = 0, 0.01 # mean and standard deviation\n",
        "w = np.random.normal(mu, sigma, 9) # weight intialization\n",
        "b=.9 #γ is usually set to 0.9\n",
        "m=np.zeros(9) \n",
        "v=np.zeros(9)"
      ],
      "execution_count": 20,
      "outputs": []
    },
    {
      "cell_type": "code",
      "source": [
        "loss_value_Adam=[]\n",
        "epoc_Adam=[]\n",
        "for epoch in range(100):\n",
        "  epoc_Adam.append(epoch)\n",
        "  y_pred=[]\n",
        "  for point in range(len(data)):\n",
        "     forward_dict=forward_propagation(X[point],y[point],w)\n",
        "     y_pred.append(forward_dict['dy_pred'])\n",
        "     backward_dict=backward_propagation(X[point],y[point],w,forward_dict)\n",
        "     m[0] = beta1*m[0] + (1-beta1)*backward_dict['dw1']\n",
        "     mt = m[0] / (1-beta1)\n",
        "     v[0] = beta2 * v[0] + (1-beta2)*math.pow(backward_dict['dw1'],2)\n",
        "     vt=v[0]/(1-beta2)\n",
        "     w[0]=w[0]-(learn_rate/(math.sqrt(vt)+eps))*mt\n",
        "     m[1] = beta1*m[1] + (1-beta1)*backward_dict['dw2']\n",
        "     mt = m[1] / (1-beta1)\n",
        "     v[1] = beta2 * v[1] + (1-beta2)*math.pow(backward_dict['dw2'],2)\n",
        "     vt=v[1]/(1-beta2)\n",
        "     w[1]=w[1]-(learn_rate/(math.sqrt(vt)+eps))*mt\n",
        "     m[2] = beta1*m[2] + (1-beta1)*backward_dict['dw3']\n",
        "     mt = m[2] / (1-beta1)\n",
        "     v[2] = beta2 * v[2] + (1-beta2)*math.pow(backward_dict['dw3'],2)\n",
        "     vt=v[2]/(1-beta2)\n",
        "     w[2]=w[2]-(learn_rate/(math.sqrt(vt)+eps))*mt\n",
        "     m[3] = beta1*m[3] + (1-beta1)*backward_dict['dw4']\n",
        "     mt = m[3] / (1-beta1)\n",
        "     v[3] = beta2 * v[3] + (1-beta2)*math.pow(backward_dict['dw4'],2)\n",
        "     vt=v[3]/(1-beta2)\n",
        "     w[3]=w[3]-(learn_rate/(math.sqrt(vt)+eps))*mt\n",
        "     m[4] = beta1*m[4] + (1-beta1)*backward_dict['dw5']\n",
        "     mt = m[4] / (1-beta1)\n",
        "     v[4] = beta2 * v[4] + (1-beta2)*math.pow(backward_dict['dw5'],2)\n",
        "     vt=v[4]/(1-beta2)\n",
        "     w[4]=w[4]-(learn_rate/(math.sqrt(vt)+eps))*mt\n",
        "     m[5] = beta1*m[5] + (1-beta1)*backward_dict['dw6']\n",
        "     mt = m[5] / (1-beta1)\n",
        "     v[5] = beta2 * v[5] + (1-beta2)*math.pow(backward_dict['dw6'],2)\n",
        "     vt=v[5]/(1-beta2)\n",
        "     w[5]=w[5]-(learn_rate/(math.sqrt(vt)+eps))*mt\n",
        "     m[6] = beta1*m[6] + (1-beta1)*backward_dict['dw7']\n",
        "     mt = m[6] / (1-beta1)\n",
        "     v[6] = beta2 * v[6] + (1-beta2)*math.pow(backward_dict['dw7'],2)\n",
        "     vt=v[6]/(1-beta2)\n",
        "     w[6]=w[6]-(learn_rate/(math.sqrt(vt)+eps))*mt\n",
        "     m[7] = beta1*m[7] + (1-beta1)*backward_dict['dw8']\n",
        "     mt = m[7] / (1-beta1)\n",
        "     v[7] = beta2 * v[7] + (1-beta2)*math.pow(backward_dict['dw8'],2)\n",
        "     vt=v[7]/(1-beta2)\n",
        "     w[7]=w[7]-(learn_rate/(math.sqrt(vt)+eps))*mt\n",
        "     m[8] = beta1*m[8] + (1-beta1)*backward_dict['dw9']\n",
        "     mt = m[8] / (1-beta1)\n",
        "     v[8] = beta2 * v[8] + (1-beta2)*math.pow(backward_dict['dw9'],2)\n",
        "     vt=v[8]/(1-beta2)\n",
        "     w[8]=w[8]-(learn_rate/(math.sqrt(vt)+eps))*mt\n",
        "  loss= mean_squared_error(y,y_pred)\n",
        "  loss_value_Adam.append(loss)   "
      ],
      "metadata": {
        "id": "gdGM_37wPvF-"
      },
      "execution_count": 21,
      "outputs": []
    },
    {
      "cell_type": "code",
      "source": [
        "%matplotlib inline\n",
        "import matplotlib.pyplot as plt\n",
        "plt.figure(figsize=(8,6))\n",
        "plt.grid()\n",
        "plt.plot(epoc_Adam,loss_value_Adam, label=' loss')\n",
        "plt.title(\"epoch vs loss\")\n",
        "plt.xlabel(\"epoch_number\")\n",
        "plt.ylabel(\"loss\")\n",
        "plt.legend()"
      ],
      "metadata": {
        "colab": {
          "base_uri": "https://localhost:8080/",
          "height": 423
        },
        "id": "zakvOzc9XZH8",
        "outputId": "67d9ac07-6d5c-420d-88c4-0f6a9f0227a8"
      },
      "execution_count": 22,
      "outputs": [
        {
          "output_type": "execute_result",
          "data": {
            "text/plain": [
              "<matplotlib.legend.Legend at 0x7fe6f92fe710>"
            ]
          },
          "metadata": {},
          "execution_count": 22
        },
        {
          "output_type": "display_data",
          "data": {
            "text/plain": [
              "<Figure size 576x432 with 1 Axes>"
            ],
            "image/png": "[encoded data removed]"
          },
          "metadata": {
            "needs_background": "light"
          }
        }
      ]
    },
    {
      "cell_type": "markdown",
      "metadata": {
        "id": "7627cy8YlnYO"
      },
      "source": [
        "<font color='blue'>Comparision plot between epochs and loss with different optimizers. Make sure that loss is conerging with increaing epochs</font>"
      ]
    },
    {
      "cell_type": "markdown",
      "metadata": {
        "id": "YfDWEOCr69uQ"
      },
      "source": [
        "<font color='blue'><b>You can go through the following blog to understand the implementation of other optimizers .</font>\n",
        "   <br> [Gradients update blog](https://cs231n.github.io/neural-networks-3/) </br>"
      ]
    },
    {
      "cell_type": "code",
      "metadata": {
        "id": "IsoSyrCQ6_xb",
        "colab": {
          "base_uri": "https://localhost:8080/",
          "height": 407
        },
        "outputId": "4ee8e847-681f-45e5-96ce-42e4d6fa921e"
      },
      "source": [
        "%matplotlib inline\n",
        "import matplotlib.pyplot as plt\n",
        "plt.figure(figsize=(8,6))\n",
        "plt.grid()\n",
        "plt.plot(epoc_Adam,loss_value_Adam, label=' adam update')\n",
        "plt.plot(epoc_vanilla,loss_value_vanilla, label=' vanilla update')\n",
        "plt.plot(epoc_momentum,loss_value_momentum, label=' momentum')\n",
        "plt.xlabel(\"epoch_number\")\n",
        "plt.ylabel(\"loss\")\n",
        "plt.legend()\n"
      ],
      "execution_count": 23,
      "outputs": [
        {
          "output_type": "execute_result",
          "data": {
            "text/plain": [
              "<matplotlib.legend.Legend at 0x7fe6f92900d0>"
            ]
          },
          "metadata": {},
          "execution_count": 23
        },
        {
          "output_type": "display_data",
          "data": {
            "text/plain": [
              "<Figure size 576x432 with 1 Axes>"
            ],
            "image/png": "[encoded data removed]"
          },
          "metadata": {
            "needs_background": "light"
          }
        }
      ]
    },
    {
      "cell_type": "markdown",
      "source": [
        "Observartion:\n",
        "1.loss is conerging with increaing epochs for all optimizers"
      ],
      "metadata": {
        "id": "ugYbbYFAQIOj"
      }
    }
  ]
}
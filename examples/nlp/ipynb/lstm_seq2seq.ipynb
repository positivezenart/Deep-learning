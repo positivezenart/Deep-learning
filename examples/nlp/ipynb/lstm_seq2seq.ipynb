{
  "cells": [
    {
      "cell_type": "markdown",
      "metadata": {
        "id": "Hc2yBH7D3nSf"
      },
      "source": [
        "# Character-level recurrent sequence-to-sequence model\n",
        "\n",
        "**Author:** [fchollet](https://twitter.com/fchollet)<br>\n",
        "**Date created:** 2017/09/29<br>\n",
        "**Last modified:** 2020/04/26<br>\n",
        "**Description:** Character-level recurrent sequence-to-sequence model."
      ]
    },
    {
      "cell_type": "markdown",
      "metadata": {
        "id": "xrF0bYIC3nSi"
      },
      "source": [
        "## Introduction\n",
        "\n",
        "This example demonstrates how to implement a basic character-level\n",
        "recurrent sequence-to-sequence model. We apply it to translating\n",
        "short English sentences into short French sentences,\n",
        "character-by-character. Note that it is fairly unusual to\n",
        "do character-level machine translation, as word-level\n",
        "models are more common in this domain.\n",
        "\n",
        "**Summary of the algorithm**\n",
        "\n",
        "- We start with input sequences from a domain (e.g. English sentences)\n",
        "    and corresponding target sequences from another domain\n",
        "    (e.g. French sentences).\n",
        "- An encoder LSTM turns input sequences to 2 state vectors\n",
        "    (we keep the last LSTM state and discard the outputs).\n",
        "- A decoder LSTM is trained to turn the target sequences into\n",
        "    the same sequence but offset by one timestep in the future,\n",
        "    a training process called \"teacher forcing\" in this context.\n",
        "    It uses as initial state the state vectors from the encoder.\n",
        "    Effectively, the decoder learns to generate `targets[t+1...]`\n",
        "    given `targets[...t]`, conditioned on the input sequence.\n",
        "- In inference mode, when we want to decode unknown input sequences, we:\n",
        "    - Encode the input sequence into state vectors\n",
        "    - Start with a target sequence of size 1\n",
        "        (just the start-of-sequence character)\n",
        "    - Feed the state vectors and 1-char target sequence\n",
        "        to the decoder to produce predictions for the next character\n",
        "    - Sample the next character using these predictions\n",
        "        (we simply use argmax).\n",
        "    - Append the sampled character to the target sequence\n",
        "    - Repeat until we generate the end-of-sequence character or we\n",
        "        hit the character limit.\n"
      ]
    },
    {
      "cell_type": "markdown",
      "metadata": {
        "id": "Uf3wX4X53nSj"
      },
      "source": [
        "## Setup\n"
      ]
    },
    {
      "cell_type": "code",
      "execution_count": 1,
      "metadata": {
        "id": "MRJrvCOZ3nSk"
      },
      "outputs": [],
      "source": [
        "import numpy as np\n",
        "import tensorflow as tf\n",
        "from tensorflow import keras\n"
      ]
    },
    {
      "cell_type": "markdown",
      "metadata": {
        "id": "eabduLkI3nSl"
      },
      "source": [
        "## Download the data\n"
      ]
    },
    {
      "cell_type": "code",
      "execution_count": 2,
      "metadata": {
        "id": "Eid7YT9v3nSl",
        "outputId": "1cb02470-a651-4a9c-da6e-73506c924c71",
        "colab": {
          "base_uri": "https://localhost:8080/"
        }
      },
      "outputs": [
        {
          "output_type": "execute_result",
          "data": {
            "text/plain": [
              "['Archive:  fra-eng.zip',\n",
              " '  inflating: _about.txt              ',\n",
              " '  inflating: fra.txt                 ']"
            ]
          },
          "metadata": {},
          "execution_count": 2
        }
      ],
      "source": [
        "!!curl -O http://www.manythings.org/anki/fra-eng.zip\n",
        "!!unzip fra-eng.zip\n"
      ]
    },
    {
      "cell_type": "markdown",
      "metadata": {
        "id": "07NpGtNg3nSm"
      },
      "source": [
        "## Configuration\n"
      ]
    },
    {
      "cell_type": "code",
      "execution_count": 3,
      "metadata": {
        "id": "HUMidiPb3nSm"
      },
      "outputs": [],
      "source": [
        "batch_size = 64  # Batch size for training.\n",
        "epochs = 100  # Number of epochs to train for.\n",
        "latent_dim = 256  # Latent dimensionality of the encoding space.\n",
        "num_samples = 10000  # Number of samples to train on.\n",
        "# Path to the data txt file on disk.\n",
        "data_path = \"fra.txt\"\n"
      ]
    },
    {
      "cell_type": "markdown",
      "metadata": {
        "id": "kHhu-f5J3nSn"
      },
      "source": [
        "## Prepare the data\n"
      ]
    },
    {
      "cell_type": "code",
      "execution_count": 4,
      "metadata": {
        "id": "55XeNcHA3nSn",
        "outputId": "e00e157d-71e4-4e5f-b9e8-c39a62cd8df0",
        "colab": {
          "base_uri": "https://localhost:8080/"
        }
      },
      "outputs": [
        {
          "output_type": "stream",
          "name": "stdout",
          "text": [
            "Number of samples: 10000\n",
            "Number of unique input tokens: 71\n",
            "Number of unique output tokens: 93\n",
            "Max sequence length for inputs: 15\n",
            "Max sequence length for outputs: 59\n"
          ]
        }
      ],
      "source": [
        "# Vectorize the data.\n",
        "input_texts = []\n",
        "target_texts = []\n",
        "input_characters = set()\n",
        "target_characters = set()\n",
        "with open(data_path, \"r\", encoding=\"utf-8\") as f:\n",
        "    lines = f.read().split(\"\\n\")\n",
        "for line in lines[: min(num_samples, len(lines) - 1)]:\n",
        "    input_text, target_text, _ = line.split(\"\\t\")\n",
        "    # We use \"tab\" as the \"start sequence\" character\n",
        "    # for the targets, and \"\\n\" as \"end sequence\" character.\n",
        "    target_text = \"\\t\" + target_text + \"\\n\"\n",
        "    input_texts.append(input_text)\n",
        "    target_texts.append(target_text)\n",
        "    for char in input_text:\n",
        "        if char not in input_characters:\n",
        "            input_characters.add(char)\n",
        "    for char in target_text:\n",
        "        if char not in target_characters:\n",
        "            target_characters.add(char)\n",
        "\n",
        "input_characters = sorted(list(input_characters))\n",
        "target_characters = sorted(list(target_characters))\n",
        "num_encoder_tokens = len(input_characters)\n",
        "num_decoder_tokens = len(target_characters)\n",
        "max_encoder_seq_length = max([len(txt) for txt in input_texts])\n",
        "max_decoder_seq_length = max([len(txt) for txt in target_texts])\n",
        "\n",
        "print(\"Number of samples:\", len(input_texts))\n",
        "print(\"Number of unique input tokens:\", num_encoder_tokens)\n",
        "print(\"Number of unique output tokens:\", num_decoder_tokens)\n",
        "print(\"Max sequence length for inputs:\", max_encoder_seq_length)\n",
        "print(\"Max sequence length for outputs:\", max_decoder_seq_length)\n",
        "\n",
        "input_token_index = dict([(char, i) for i, char in enumerate(input_characters)])\n",
        "target_token_index = dict([(char, i) for i, char in enumerate(target_characters)])\n",
        "\n",
        "encoder_input_data = np.zeros(\n",
        "    (len(input_texts), max_encoder_seq_length, num_encoder_tokens), dtype=\"float32\"\n",
        ")\n",
        "decoder_input_data = np.zeros(\n",
        "    (len(input_texts), max_decoder_seq_length, num_decoder_tokens), dtype=\"float32\"\n",
        ")\n",
        "decoder_target_data = np.zeros(\n",
        "    (len(input_texts), max_decoder_seq_length, num_decoder_tokens), dtype=\"float32\"\n",
        ")\n",
        "\n",
        "for i, (input_text, target_text) in enumerate(zip(input_texts, target_texts)):\n",
        "    for t, char in enumerate(input_text):\n",
        "        encoder_input_data[i, t, input_token_index[char]] = 1.0\n",
        "    encoder_input_data[i, t + 1 :, input_token_index[\" \"]] = 1.0\n",
        "    for t, char in enumerate(target_text):\n",
        "        # decoder_target_data is ahead of decoder_input_data by one timestep\n",
        "        decoder_input_data[i, t, target_token_index[char]] = 1.0\n",
        "        if t > 0:\n",
        "            # decoder_target_data will be ahead by one timestep\n",
        "            # and will not include the start character.\n",
        "            decoder_target_data[i, t - 1, target_token_index[char]] = 1.0\n",
        "    decoder_input_data[i, t + 1 :, target_token_index[\" \"]] = 1.0\n",
        "    decoder_target_data[i, t:, target_token_index[\" \"]] = 1.0\n"
      ]
    },
    {
      "cell_type": "markdown",
      "metadata": {
        "id": "FkDyrxdO3nSo"
      },
      "source": [
        "## Build the model\n"
      ]
    },
    {
      "cell_type": "code",
      "execution_count": 5,
      "metadata": {
        "id": "6F3D07L83nSo"
      },
      "outputs": [],
      "source": [
        "# Define an input sequence and process it.\n",
        "encoder_inputs = keras.Input(shape=(None, num_encoder_tokens))\n",
        "encoder = keras.layers.LSTM(latent_dim, return_state=True)\n",
        "encoder_outputs, state_h, state_c = encoder(encoder_inputs)\n",
        "\n",
        "# We discard `encoder_outputs` and only keep the states.\n",
        "encoder_states = [state_h, state_c]\n",
        "\n",
        "# Set up the decoder, using `encoder_states` as initial state.\n",
        "decoder_inputs = keras.Input(shape=(None, num_decoder_tokens))\n",
        "\n",
        "# We set up our decoder to return full output sequences,\n",
        "# and to return internal states as well. We don't use the\n",
        "# return states in the training model, but we will use them in inference.\n",
        "decoder_lstm = keras.layers.LSTM(latent_dim, return_sequences=True, return_state=True)\n",
        "decoder_outputs, _, _ = decoder_lstm(decoder_inputs, initial_state=encoder_states)\n",
        "decoder_dense = keras.layers.Dense(num_decoder_tokens, activation=\"softmax\")\n",
        "decoder_outputs = decoder_dense(decoder_outputs)\n",
        "\n",
        "# Define the model that will turn\n",
        "# `encoder_input_data` & `decoder_input_data` into `decoder_target_data`\n",
        "model = keras.Model([encoder_inputs, decoder_inputs], decoder_outputs)\n"
      ]
    },
    {
      "cell_type": "markdown",
      "metadata": {
        "id": "qoG_iQ3V3nSp"
      },
      "source": [
        "## Train the model\n"
      ]
    },
    {
      "cell_type": "code",
      "execution_count": 6,
      "metadata": {
        "id": "NORvGg803nSp",
        "outputId": "a6330611-c42f-4c3e-ae2a-d079eadbcd43",
        "colab": {
          "base_uri": "https://localhost:8080/"
        }
      },
      "outputs": [
        {
          "output_type": "stream",
          "name": "stdout",
          "text": [
            "Epoch 1/100\n",
            "125/125 [==============================] - 53s 395ms/step - loss: 1.1377 - accuracy: 0.7364 - val_loss: 1.0140 - val_accuracy: 0.7280\n",
            "Epoch 2/100\n",
            "125/125 [==============================] - 48s 382ms/step - loss: 0.8056 - accuracy: 0.7829 - val_loss: 0.8112 - val_accuracy: 0.7726\n",
            "Epoch 3/100\n",
            "125/125 [==============================] - 49s 388ms/step - loss: 0.6560 - accuracy: 0.8174 - val_loss: 0.7092 - val_accuracy: 0.7916\n",
            "Epoch 4/100\n",
            "125/125 [==============================] - 49s 396ms/step - loss: 0.5710 - accuracy: 0.8346 - val_loss: 0.6328 - val_accuracy: 0.8170\n",
            "Epoch 5/100\n",
            "125/125 [==============================] - 48s 387ms/step - loss: 0.5222 - accuracy: 0.8476 - val_loss: 0.5893 - val_accuracy: 0.8273\n",
            "Epoch 6/100\n",
            "125/125 [==============================] - 49s 392ms/step - loss: 0.4892 - accuracy: 0.8563 - val_loss: 0.5635 - val_accuracy: 0.8359\n",
            "Epoch 7/100\n",
            "125/125 [==============================] - 50s 397ms/step - loss: 0.4628 - accuracy: 0.8634 - val_loss: 0.5424 - val_accuracy: 0.8395\n",
            "Epoch 8/100\n",
            "125/125 [==============================] - 48s 382ms/step - loss: 0.4410 - accuracy: 0.8692 - val_loss: 0.5184 - val_accuracy: 0.8471\n",
            "Epoch 9/100\n",
            "125/125 [==============================] - 48s 382ms/step - loss: 0.4207 - accuracy: 0.8746 - val_loss: 0.5088 - val_accuracy: 0.8488\n",
            "Epoch 10/100\n",
            "125/125 [==============================] - 50s 396ms/step - loss: 0.4027 - accuracy: 0.8795 - val_loss: 0.5005 - val_accuracy: 0.8532\n",
            "Epoch 11/100\n",
            "125/125 [==============================] - 48s 387ms/step - loss: 0.3855 - accuracy: 0.8844 - val_loss: 0.4848 - val_accuracy: 0.8577\n",
            "Epoch 12/100\n",
            "125/125 [==============================] - 48s 384ms/step - loss: 0.3704 - accuracy: 0.8885 - val_loss: 0.4786 - val_accuracy: 0.8595\n",
            "Epoch 13/100\n",
            "125/125 [==============================] - 48s 382ms/step - loss: 0.3557 - accuracy: 0.8928 - val_loss: 0.4672 - val_accuracy: 0.8623\n",
            "Epoch 14/100\n",
            "125/125 [==============================] - 48s 384ms/step - loss: 0.3418 - accuracy: 0.8970 - val_loss: 0.4644 - val_accuracy: 0.8644\n",
            "Epoch 15/100\n",
            "125/125 [==============================] - 47s 378ms/step - loss: 0.3293 - accuracy: 0.9008 - val_loss: 0.4584 - val_accuracy: 0.8663\n",
            "Epoch 16/100\n",
            "125/125 [==============================] - 47s 377ms/step - loss: 0.3177 - accuracy: 0.9043 - val_loss: 0.4490 - val_accuracy: 0.8691\n",
            "Epoch 17/100\n",
            "125/125 [==============================] - 48s 386ms/step - loss: 0.3062 - accuracy: 0.9080 - val_loss: 0.4455 - val_accuracy: 0.8705\n",
            "Epoch 18/100\n",
            "125/125 [==============================] - 48s 381ms/step - loss: 0.2954 - accuracy: 0.9108 - val_loss: 0.4478 - val_accuracy: 0.8711\n",
            "Epoch 19/100\n",
            "125/125 [==============================] - 48s 382ms/step - loss: 0.2850 - accuracy: 0.9139 - val_loss: 0.4473 - val_accuracy: 0.8722\n",
            "Epoch 20/100\n",
            "125/125 [==============================] - 49s 389ms/step - loss: 0.2749 - accuracy: 0.9171 - val_loss: 0.4452 - val_accuracy: 0.8731\n",
            "Epoch 21/100\n",
            "125/125 [==============================] - 48s 381ms/step - loss: 0.2654 - accuracy: 0.9199 - val_loss: 0.4489 - val_accuracy: 0.8723\n",
            "Epoch 22/100\n",
            "125/125 [==============================] - 49s 392ms/step - loss: 0.2566 - accuracy: 0.9222 - val_loss: 0.4452 - val_accuracy: 0.8734\n",
            "Epoch 23/100\n",
            "125/125 [==============================] - 50s 397ms/step - loss: 0.2481 - accuracy: 0.9249 - val_loss: 0.4498 - val_accuracy: 0.8740\n",
            "Epoch 24/100\n",
            "125/125 [==============================] - 48s 386ms/step - loss: 0.2403 - accuracy: 0.9274 - val_loss: 0.4492 - val_accuracy: 0.8741\n",
            "Epoch 25/100\n",
            "125/125 [==============================] - 48s 383ms/step - loss: 0.2323 - accuracy: 0.9298 - val_loss: 0.4519 - val_accuracy: 0.8737\n",
            "Epoch 26/100\n",
            "125/125 [==============================] - 48s 386ms/step - loss: 0.2245 - accuracy: 0.9320 - val_loss: 0.4551 - val_accuracy: 0.8747\n",
            "Epoch 27/100\n",
            "125/125 [==============================] - 47s 376ms/step - loss: 0.2172 - accuracy: 0.9341 - val_loss: 0.4551 - val_accuracy: 0.8757\n",
            "Epoch 28/100\n",
            "125/125 [==============================] - 47s 378ms/step - loss: 0.2105 - accuracy: 0.9361 - val_loss: 0.4599 - val_accuracy: 0.8756\n",
            "Epoch 29/100\n",
            "125/125 [==============================] - 49s 394ms/step - loss: 0.2040 - accuracy: 0.9379 - val_loss: 0.4725 - val_accuracy: 0.8734\n",
            "Epoch 30/100\n",
            "125/125 [==============================] - 48s 383ms/step - loss: 0.1977 - accuracy: 0.9397 - val_loss: 0.4670 - val_accuracy: 0.8748\n",
            "Epoch 31/100\n",
            "125/125 [==============================] - 47s 377ms/step - loss: 0.1916 - accuracy: 0.9416 - val_loss: 0.4718 - val_accuracy: 0.8751\n",
            "Epoch 32/100\n",
            "125/125 [==============================] - 47s 379ms/step - loss: 0.1856 - accuracy: 0.9433 - val_loss: 0.4749 - val_accuracy: 0.8748\n",
            "Epoch 33/100\n",
            "125/125 [==============================] - 50s 396ms/step - loss: 0.1799 - accuracy: 0.9452 - val_loss: 0.4748 - val_accuracy: 0.8756\n",
            "Epoch 34/100\n",
            "125/125 [==============================] - 48s 385ms/step - loss: 0.1748 - accuracy: 0.9467 - val_loss: 0.4761 - val_accuracy: 0.8748\n",
            "Epoch 35/100\n",
            "125/125 [==============================] - 48s 386ms/step - loss: 0.1699 - accuracy: 0.9479 - val_loss: 0.4889 - val_accuracy: 0.8749\n",
            "Epoch 36/100\n",
            "125/125 [==============================] - 47s 376ms/step - loss: 0.1651 - accuracy: 0.9498 - val_loss: 0.4882 - val_accuracy: 0.8760\n",
            "Epoch 37/100\n",
            "125/125 [==============================] - 47s 376ms/step - loss: 0.1602 - accuracy: 0.9510 - val_loss: 0.4971 - val_accuracy: 0.8761\n",
            "Epoch 38/100\n",
            "125/125 [==============================] - 48s 381ms/step - loss: 0.1558 - accuracy: 0.9522 - val_loss: 0.5019 - val_accuracy: 0.8744\n",
            "Epoch 39/100\n",
            "125/125 [==============================] - 48s 388ms/step - loss: 0.1513 - accuracy: 0.9535 - val_loss: 0.5080 - val_accuracy: 0.8751\n",
            "Epoch 40/100\n",
            "125/125 [==============================] - 47s 379ms/step - loss: 0.1472 - accuracy: 0.9549 - val_loss: 0.5148 - val_accuracy: 0.8748\n",
            "Epoch 41/100\n",
            "125/125 [==============================] - 47s 379ms/step - loss: 0.1434 - accuracy: 0.9562 - val_loss: 0.5157 - val_accuracy: 0.8747\n",
            "Epoch 42/100\n",
            "125/125 [==============================] - 48s 385ms/step - loss: 0.1393 - accuracy: 0.9571 - val_loss: 0.5198 - val_accuracy: 0.8745\n",
            "Epoch 43/100\n",
            "125/125 [==============================] - 47s 374ms/step - loss: 0.1358 - accuracy: 0.9582 - val_loss: 0.5251 - val_accuracy: 0.8757\n",
            "Epoch 44/100\n",
            "125/125 [==============================] - 47s 377ms/step - loss: 0.1323 - accuracy: 0.9591 - val_loss: 0.5309 - val_accuracy: 0.8746\n",
            "Epoch 45/100\n",
            "125/125 [==============================] - 48s 383ms/step - loss: 0.1290 - accuracy: 0.9601 - val_loss: 0.5293 - val_accuracy: 0.8756\n",
            "Epoch 46/100\n",
            "125/125 [==============================] - 47s 375ms/step - loss: 0.1256 - accuracy: 0.9612 - val_loss: 0.5399 - val_accuracy: 0.8746\n",
            "Epoch 47/100\n",
            "125/125 [==============================] - 48s 382ms/step - loss: 0.1227 - accuracy: 0.9619 - val_loss: 0.5435 - val_accuracy: 0.8748\n",
            "Epoch 48/100\n",
            "125/125 [==============================] - 48s 388ms/step - loss: 0.1197 - accuracy: 0.9627 - val_loss: 0.5541 - val_accuracy: 0.8748\n",
            "Epoch 49/100\n",
            "125/125 [==============================] - 47s 376ms/step - loss: 0.1166 - accuracy: 0.9638 - val_loss: 0.5551 - val_accuracy: 0.8743\n",
            "Epoch 50/100\n",
            "125/125 [==============================] - 47s 374ms/step - loss: 0.1138 - accuracy: 0.9645 - val_loss: 0.5579 - val_accuracy: 0.8750\n",
            "Epoch 51/100\n",
            "125/125 [==============================] - 47s 380ms/step - loss: 0.1110 - accuracy: 0.9651 - val_loss: 0.5648 - val_accuracy: 0.8744\n",
            "Epoch 52/100\n",
            "125/125 [==============================] - 47s 372ms/step - loss: 0.1081 - accuracy: 0.9662 - val_loss: 0.5730 - val_accuracy: 0.8742\n",
            "Epoch 53/100\n",
            "125/125 [==============================] - 47s 374ms/step - loss: 0.1057 - accuracy: 0.9669 - val_loss: 0.5697 - val_accuracy: 0.8750\n",
            "Epoch 54/100\n",
            "125/125 [==============================] - 48s 383ms/step - loss: 0.1034 - accuracy: 0.9676 - val_loss: 0.5791 - val_accuracy: 0.8738\n",
            "Epoch 55/100\n",
            "125/125 [==============================] - 49s 392ms/step - loss: 0.1011 - accuracy: 0.9680 - val_loss: 0.5783 - val_accuracy: 0.8745\n",
            "Epoch 56/100\n",
            "125/125 [==============================] - 47s 378ms/step - loss: 0.0989 - accuracy: 0.9686 - val_loss: 0.5797 - val_accuracy: 0.8745\n",
            "Epoch 57/100\n",
            "125/125 [==============================] - 47s 374ms/step - loss: 0.0966 - accuracy: 0.9696 - val_loss: 0.5905 - val_accuracy: 0.8733\n",
            "Epoch 58/100\n",
            "125/125 [==============================] - 48s 385ms/step - loss: 0.0944 - accuracy: 0.9702 - val_loss: 0.5960 - val_accuracy: 0.8744\n",
            "Epoch 59/100\n",
            "125/125 [==============================] - 47s 374ms/step - loss: 0.0923 - accuracy: 0.9706 - val_loss: 0.5997 - val_accuracy: 0.8737\n",
            "Epoch 60/100\n",
            "125/125 [==============================] - 47s 373ms/step - loss: 0.0907 - accuracy: 0.9710 - val_loss: 0.6015 - val_accuracy: 0.8744\n",
            "Epoch 61/100\n",
            "125/125 [==============================] - 48s 385ms/step - loss: 0.0887 - accuracy: 0.9715 - val_loss: 0.6052 - val_accuracy: 0.8737\n",
            "Epoch 62/100\n",
            "125/125 [==============================] - 49s 390ms/step - loss: 0.0867 - accuracy: 0.9721 - val_loss: 0.6071 - val_accuracy: 0.8742\n",
            "Epoch 63/100\n",
            "125/125 [==============================] - 48s 384ms/step - loss: 0.0847 - accuracy: 0.9729 - val_loss: 0.6209 - val_accuracy: 0.8726\n",
            "Epoch 64/100\n",
            "125/125 [==============================] - 47s 379ms/step - loss: 0.0834 - accuracy: 0.9731 - val_loss: 0.6197 - val_accuracy: 0.8731\n",
            "Epoch 65/100\n",
            "125/125 [==============================] - 47s 377ms/step - loss: 0.0815 - accuracy: 0.9736 - val_loss: 0.6251 - val_accuracy: 0.8736\n",
            "Epoch 66/100\n",
            "125/125 [==============================] - 47s 375ms/step - loss: 0.0798 - accuracy: 0.9741 - val_loss: 0.6300 - val_accuracy: 0.8731\n",
            "Epoch 67/100\n",
            "125/125 [==============================] - 47s 376ms/step - loss: 0.0782 - accuracy: 0.9747 - val_loss: 0.6336 - val_accuracy: 0.8732\n",
            "Epoch 68/100\n",
            "125/125 [==============================] - 48s 381ms/step - loss: 0.0767 - accuracy: 0.9752 - val_loss: 0.6410 - val_accuracy: 0.8728\n",
            "Epoch 69/100\n",
            "125/125 [==============================] - 49s 389ms/step - loss: 0.0754 - accuracy: 0.9752 - val_loss: 0.6398 - val_accuracy: 0.8740\n",
            "Epoch 70/100\n",
            "125/125 [==============================] - 47s 379ms/step - loss: 0.0736 - accuracy: 0.9758 - val_loss: 0.6491 - val_accuracy: 0.8729\n",
            "Epoch 71/100\n",
            "125/125 [==============================] - 48s 382ms/step - loss: 0.0724 - accuracy: 0.9761 - val_loss: 0.6566 - val_accuracy: 0.8727\n",
            "Epoch 72/100\n",
            "125/125 [==============================] - 49s 396ms/step - loss: 0.0710 - accuracy: 0.9765 - val_loss: 0.6565 - val_accuracy: 0.8735\n",
            "Epoch 73/100\n",
            "125/125 [==============================] - 47s 379ms/step - loss: 0.0696 - accuracy: 0.9770 - val_loss: 0.6605 - val_accuracy: 0.8730\n",
            "Epoch 74/100\n",
            "125/125 [==============================] - 48s 383ms/step - loss: 0.0681 - accuracy: 0.9776 - val_loss: 0.6623 - val_accuracy: 0.8731\n",
            "Epoch 75/100\n",
            "125/125 [==============================] - 48s 387ms/step - loss: 0.0673 - accuracy: 0.9777 - val_loss: 0.6635 - val_accuracy: 0.8734\n",
            "Epoch 76/100\n",
            "125/125 [==============================] - 49s 389ms/step - loss: 0.0657 - accuracy: 0.9783 - val_loss: 0.6708 - val_accuracy: 0.8732\n",
            "Epoch 77/100\n",
            "125/125 [==============================] - 48s 385ms/step - loss: 0.0649 - accuracy: 0.9782 - val_loss: 0.6727 - val_accuracy: 0.8737\n",
            "Epoch 78/100\n",
            "125/125 [==============================] - 49s 392ms/step - loss: 0.0635 - accuracy: 0.9786 - val_loss: 0.6812 - val_accuracy: 0.8713\n",
            "Epoch 79/100\n",
            "125/125 [==============================] - 49s 389ms/step - loss: 0.0624 - accuracy: 0.9789 - val_loss: 0.6837 - val_accuracy: 0.8725\n",
            "Epoch 80/100\n",
            "125/125 [==============================] - 48s 385ms/step - loss: 0.0615 - accuracy: 0.9792 - val_loss: 0.6892 - val_accuracy: 0.8720\n",
            "Epoch 81/100\n",
            "125/125 [==============================] - 50s 399ms/step - loss: 0.0607 - accuracy: 0.9793 - val_loss: 0.6905 - val_accuracy: 0.8723\n",
            "Epoch 82/100\n",
            "125/125 [==============================] - 53s 425ms/step - loss: 0.0595 - accuracy: 0.9798 - val_loss: 0.6947 - val_accuracy: 0.8720\n",
            "Epoch 83/100\n",
            "125/125 [==============================] - 53s 427ms/step - loss: 0.0582 - accuracy: 0.9802 - val_loss: 0.6994 - val_accuracy: 0.8725\n",
            "Epoch 84/100\n",
            "125/125 [==============================] - 51s 410ms/step - loss: 0.0576 - accuracy: 0.9803 - val_loss: 0.7024 - val_accuracy: 0.8718\n",
            "Epoch 85/100\n",
            "125/125 [==============================] - 52s 418ms/step - loss: 0.0566 - accuracy: 0.9805 - val_loss: 0.7149 - val_accuracy: 0.8712\n",
            "Epoch 86/100\n",
            "125/125 [==============================] - 53s 422ms/step - loss: 0.0557 - accuracy: 0.9809 - val_loss: 0.7033 - val_accuracy: 0.8723\n",
            "Epoch 87/100\n",
            "125/125 [==============================] - 53s 428ms/step - loss: 0.0551 - accuracy: 0.9811 - val_loss: 0.7109 - val_accuracy: 0.8716\n",
            "Epoch 88/100\n",
            "125/125 [==============================] - 53s 425ms/step - loss: 0.0543 - accuracy: 0.9814 - val_loss: 0.7102 - val_accuracy: 0.8722\n",
            "Epoch 89/100\n",
            "125/125 [==============================] - 54s 429ms/step - loss: 0.0532 - accuracy: 0.9815 - val_loss: 0.7162 - val_accuracy: 0.8719\n",
            "Epoch 90/100\n",
            "125/125 [==============================] - 53s 423ms/step - loss: 0.0524 - accuracy: 0.9818 - val_loss: 0.7211 - val_accuracy: 0.8717\n",
            "Epoch 91/100\n",
            "125/125 [==============================] - 53s 428ms/step - loss: 0.0520 - accuracy: 0.9819 - val_loss: 0.7205 - val_accuracy: 0.8722\n",
            "Epoch 92/100\n",
            "125/125 [==============================] - 52s 420ms/step - loss: 0.0511 - accuracy: 0.9821 - val_loss: 0.7279 - val_accuracy: 0.8714\n",
            "Epoch 93/100\n",
            "125/125 [==============================] - 52s 417ms/step - loss: 0.0505 - accuracy: 0.9823 - val_loss: 0.7344 - val_accuracy: 0.8722\n",
            "Epoch 94/100\n",
            "125/125 [==============================] - 52s 417ms/step - loss: 0.0499 - accuracy: 0.9826 - val_loss: 0.7260 - val_accuracy: 0.8726\n",
            "Epoch 95/100\n",
            "125/125 [==============================] - 53s 423ms/step - loss: 0.0492 - accuracy: 0.9826 - val_loss: 0.7355 - val_accuracy: 0.8718\n",
            "Epoch 96/100\n",
            "125/125 [==============================] - 52s 416ms/step - loss: 0.0483 - accuracy: 0.9831 - val_loss: 0.7429 - val_accuracy: 0.8710\n",
            "Epoch 97/100\n",
            "125/125 [==============================] - 53s 422ms/step - loss: 0.0480 - accuracy: 0.9829 - val_loss: 0.7419 - val_accuracy: 0.8715\n",
            "Epoch 98/100\n",
            "125/125 [==============================] - 52s 414ms/step - loss: 0.0471 - accuracy: 0.9833 - val_loss: 0.7426 - val_accuracy: 0.8720\n",
            "Epoch 99/100\n",
            "125/125 [==============================] - 52s 413ms/step - loss: 0.0468 - accuracy: 0.9834 - val_loss: 0.7433 - val_accuracy: 0.8721\n",
            "Epoch 100/100\n",
            "125/125 [==============================] - 52s 417ms/step - loss: 0.0461 - accuracy: 0.9835 - val_loss: 0.7495 - val_accuracy: 0.8725\n"
          ]
        },
        {
          "output_type": "stream",
          "name": "stderr",
          "text": [
            "WARNING:absl:Found untraced functions such as lstm_cell_layer_call_fn, lstm_cell_layer_call_and_return_conditional_losses, lstm_cell_1_layer_call_fn, lstm_cell_1_layer_call_and_return_conditional_losses while saving (showing 4 of 4). These functions will not be directly callable after loading.\n"
          ]
        },
        {
          "output_type": "stream",
          "name": "stdout",
          "text": [
            "INFO:tensorflow:Assets written to: s2s/assets\n"
          ]
        },
        {
          "output_type": "stream",
          "name": "stderr",
          "text": [
            "INFO:tensorflow:Assets written to: s2s/assets\n",
            "WARNING:absl:<keras.layers.recurrent.LSTMCell object at 0x7f2446fad790> has the same name 'LSTMCell' as a built-in Keras object. Consider renaming <class 'keras.layers.recurrent.LSTMCell'> to avoid naming conflicts when loading with `tf.keras.models.load_model`. If renaming is not possible, pass the object in the `custom_objects` parameter of the load function.\n",
            "WARNING:absl:<keras.layers.recurrent.LSTMCell object at 0x7f24439efb90> has the same name 'LSTMCell' as a built-in Keras object. Consider renaming <class 'keras.layers.recurrent.LSTMCell'> to avoid naming conflicts when loading with `tf.keras.models.load_model`. If renaming is not possible, pass the object in the `custom_objects` parameter of the load function.\n"
          ]
        }
      ],
      "source": [
        "model.compile(\n",
        "    optimizer=\"rmsprop\", loss=\"categorical_crossentropy\", metrics=[\"accuracy\"]\n",
        ")\n",
        "model.fit(\n",
        "    [encoder_input_data, decoder_input_data],\n",
        "    decoder_target_data,\n",
        "    batch_size=batch_size,\n",
        "    epochs=epochs,\n",
        "    validation_split=0.2,\n",
        ")\n",
        "# Save model\n",
        "model.save(\"s2s\")\n"
      ]
    },
    {
      "cell_type": "markdown",
      "metadata": {
        "id": "HhHrpv2m3nSq"
      },
      "source": [
        "## Run inference (sampling)\n",
        "\n",
        "1. encode input and retrieve initial decoder state\n",
        "2. run one step of decoder with this initial state\n",
        "and a \"start of sequence\" token as target.\n",
        "Output will be the next target token.\n",
        "3. Repeat with the current target token and current states\n"
      ]
    },
    {
      "cell_type": "code",
      "execution_count": 7,
      "metadata": {
        "id": "MaZHWKlV3nSq"
      },
      "outputs": [],
      "source": [
        "# Define sampling models\n",
        "# Restore the model and construct the encoder and decoder.\n",
        "model = keras.models.load_model(\"s2s\")\n",
        "\n",
        "encoder_inputs = model.input[0]  # input_1\n",
        "encoder_outputs, state_h_enc, state_c_enc = model.layers[2].output  # lstm_1\n",
        "encoder_states = [state_h_enc, state_c_enc]\n",
        "encoder_model = keras.Model(encoder_inputs, encoder_states)\n",
        "\n",
        "decoder_inputs = model.input[1]  # input_2\n",
        "decoder_state_input_h = keras.Input(shape=(latent_dim,))\n",
        "decoder_state_input_c = keras.Input(shape=(latent_dim,))\n",
        "decoder_states_inputs = [decoder_state_input_h, decoder_state_input_c]\n",
        "decoder_lstm = model.layers[3]\n",
        "decoder_outputs, state_h_dec, state_c_dec = decoder_lstm(\n",
        "    decoder_inputs, initial_state=decoder_states_inputs\n",
        ")\n",
        "decoder_states = [state_h_dec, state_c_dec]\n",
        "decoder_dense = model.layers[4]\n",
        "decoder_outputs = decoder_dense(decoder_outputs)\n",
        "decoder_model = keras.Model(\n",
        "    [decoder_inputs] + decoder_states_inputs, [decoder_outputs] + decoder_states\n",
        ")\n",
        "\n",
        "# Reverse-lookup token index to decode sequences back to\n",
        "# something readable.\n",
        "reverse_input_char_index = dict((i, char) for char, i in input_token_index.items())\n",
        "reverse_target_char_index = dict((i, char) for char, i in target_token_index.items())\n",
        "\n",
        "\n",
        "def decode_sequence(input_seq):\n",
        "    # Encode the input as state vectors.\n",
        "    states_value = encoder_model.predict(input_seq)\n",
        "\n",
        "    # Generate empty target sequence of length 1.\n",
        "    target_seq = np.zeros((1, 1, num_decoder_tokens))\n",
        "    # Populate the first character of target sequence with the start character.\n",
        "    target_seq[0, 0, target_token_index[\"\\t\"]] = 1.0\n",
        "\n",
        "    # Sampling loop for a batch of sequences\n",
        "    # (to simplify, here we assume a batch of size 1).\n",
        "    stop_condition = False\n",
        "    decoded_sentence = \"\"\n",
        "    while not stop_condition:\n",
        "        output_tokens, h, c = decoder_model.predict([target_seq] + states_value)\n",
        "\n",
        "        # Sample a token\n",
        "        sampled_token_index = np.argmax(output_tokens[0, -1, :])\n",
        "        sampled_char = reverse_target_char_index[sampled_token_index]\n",
        "        decoded_sentence += sampled_char\n",
        "\n",
        "        # Exit condition: either hit max length\n",
        "        # or find stop character.\n",
        "        if sampled_char == \"\\n\" or len(decoded_sentence) > max_decoder_seq_length:\n",
        "            stop_condition = True\n",
        "\n",
        "        # Update the target sequence (of length 1).\n",
        "        target_seq = np.zeros((1, 1, num_decoder_tokens))\n",
        "        target_seq[0, 0, sampled_token_index] = 1.0\n",
        "\n",
        "        # Update states\n",
        "        states_value = [h, c]\n",
        "    return decoded_sentence\n",
        "\n"
      ]
    },
    {
      "cell_type": "markdown",
      "metadata": {
        "id": "KTygGNbd3nSq"
      },
      "source": [
        "You can now generate decoded sentences as such:\n"
      ]
    },
    {
      "cell_type": "code",
      "execution_count": 8,
      "metadata": {
        "id": "ZqxNc3ic3nSq",
        "outputId": "a539ce39-349b-48a3-a3c1-f353b1e8fe2a",
        "colab": {
          "base_uri": "https://localhost:8080/"
        }
      },
      "outputs": [
        {
          "output_type": "stream",
          "name": "stdout",
          "text": [
            "-\n",
            "Input sentence: Go.\n",
            "Decoded sentence: Cout !\n",
            "\n",
            "-\n",
            "Input sentence: Go.\n",
            "Decoded sentence: Cout !\n",
            "\n",
            "-\n",
            "Input sentence: Go.\n",
            "Decoded sentence: Cout !\n",
            "\n",
            "-\n",
            "Input sentence: Hi.\n",
            "Decoded sentence: Salut !\n",
            "\n",
            "-\n",
            "Input sentence: Hi.\n",
            "Decoded sentence: Salut !\n",
            "\n",
            "-\n",
            "Input sentence: Run!\n",
            "Decoded sentence: Fuyez !\n",
            "\n",
            "-\n",
            "Input sentence: Run!\n",
            "Decoded sentence: Fuyez !\n",
            "\n",
            "-\n",
            "Input sentence: Run!\n",
            "Decoded sentence: Fuyez !\n",
            "\n",
            "-\n",
            "Input sentence: Run!\n",
            "Decoded sentence: Fuyez !\n",
            "\n",
            "-\n",
            "Input sentence: Run!\n",
            "Decoded sentence: Fuyez !\n",
            "\n",
            "-\n",
            "Input sentence: Run!\n",
            "Decoded sentence: Fuyez !\n",
            "\n",
            "-\n",
            "Input sentence: Run!\n",
            "Decoded sentence: Fuyez !\n",
            "\n",
            "-\n",
            "Input sentence: Run!\n",
            "Decoded sentence: Fuyez !\n",
            "\n",
            "-\n",
            "Input sentence: Run.\n",
            "Decoded sentence: Fuyez !\n",
            "\n",
            "-\n",
            "Input sentence: Run.\n",
            "Decoded sentence: Fuyez !\n",
            "\n",
            "-\n",
            "Input sentence: Run.\n",
            "Decoded sentence: Fuyez !\n",
            "\n",
            "-\n",
            "Input sentence: Run.\n",
            "Decoded sentence: Fuyez !\n",
            "\n",
            "-\n",
            "Input sentence: Run.\n",
            "Decoded sentence: Fuyez !\n",
            "\n",
            "-\n",
            "Input sentence: Run.\n",
            "Decoded sentence: Fuyez !\n",
            "\n",
            "-\n",
            "Input sentence: Run.\n",
            "Decoded sentence: Fuyez !\n",
            "\n"
          ]
        }
      ],
      "source": [
        "for seq_index in range(20):\n",
        "    # Take one sequence (part of the training set)\n",
        "    # for trying out decoding.\n",
        "    input_seq = encoder_input_data[seq_index : seq_index + 1]\n",
        "    decoded_sentence = decode_sequence(input_seq)\n",
        "    print(\"-\")\n",
        "    print(\"Input sentence:\", input_texts[seq_index])\n",
        "    print(\"Decoded sentence:\", decoded_sentence)\n"
      ]
    }
  ],
  "metadata": {
    "colab": {
      "collapsed_sections": [],
      "name": "lstm_seq2seq",
      "provenance": []
    },
    "kernelspec": {
      "display_name": "Python 3",
      "language": "python",
      "name": "python3"
    },
    "language_info": {
      "codemirror_mode": {
        "name": "ipython",
        "version": 3
      },
      "file_extension": ".py",
      "mimetype": "text/x-python",
      "name": "python",
      "nbconvert_exporter": "python",
      "pygments_lexer": "ipython3",
      "version": "3.7.0"
    }
  },
  "nbformat": 4,
  "nbformat_minor": 0
}